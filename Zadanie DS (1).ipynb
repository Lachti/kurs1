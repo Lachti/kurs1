{
 "cells": [
  {
   "cell_type": "markdown",
   "metadata": {},
   "source": [
    "# SEMANTIVE: DATA SCIENTIST RECRUITMENT TASK"
   ]
  },
  {
   "cell_type": "markdown",
   "metadata": {},
   "source": [
    "##### Please download and load the  [abalone dataset](https://archive.ics.uci.edu/ml/machine-learning-databases/abalone/).  \n",
    "\n",
    "##### You can use information from [this](https://archive.ics.uci.edu/ml/machine-learning-databases/abalone/abalone.names) file to add the proper headers to the columns. \n",
    "\n",
    "The whole task will be driven by supervised learning problem.\n",
    "Let's define target variable as $Rings / 1.5$ (it rougly corresponds to abalone's age).  \n",
    "We strongly encourage you use scikit-learn for the modeling tasks (but feel free to use different tools if you think they are appropriate).  \n",
    "\n",
    "##### First 2 tasks are obligatory. From the tasks 3-5 you can pick and complete 2."
   ]
  },
  {
   "cell_type": "code",
   "execution_count": 15,
   "metadata": {},
   "outputs": [],
   "source": [
    "#A place for the imports\n",
    "\n",
    "\n"
   ]
  },
  {
   "cell_type": "markdown",
   "metadata": {},
   "source": [
    "***\n",
    "# 1. Data exploration\n",
    "\n",
    "##### Explore the data  and provide a short summary of your findings. Pay attention to the target variable."
   ]
  },
  {
   "cell_type": "code",
   "execution_count": null,
   "metadata": {},
   "outputs": [],
   "source": [
    "In the data-sheet there are 8 training data/variables and 1 result-variable. Result-variable takes the results between 1 and 29. First variable is a character so i have to convert it to a number. "
   ]
  },
  {
   "cell_type": "markdown",
   "metadata": {},
   "source": [
    "***\n",
    "# 2. Supervised learning\n",
    "\n",
    "##### Prepare the data for the modeling.  \n",
    "\n",
    "###### Choose 2 supervised learning algorithms, that you think are suitable for this problem. Describe shortly how these algorithms work. Use them on the data and describe the results.  \n",
    "  \n",
    "Note. that we're more interested in comprehensive description and explanation of your choice than in model scores, so we don't expect you to tune your model yet."
   ]
  },
  {
   "cell_type": "code",
   "execution_count": null,
   "metadata": {},
   "outputs": [],
   "source": [
    "Artificial neural network with Backpropagation. To prepare the network you need to create a neurons. Input layer should have the number of neurons equal to the amount of learning-data. Hidden layer there is no rule. Every perceptron should return 0 or 1 that way in this example output layer should hava 5 neurons. How does it work? Data is transferred to the input layer. Neurons have a weight and calculate output based on the function. Output are passed to next layer. Last layer calculates the final results. When the result is differnt from the target we start adjust the weight in every layer. "
   ]
  },
  {
   "cell_type": "markdown",
   "metadata": {},
   "source": [
    "***\n",
    "# Other tasks - Pick 2 of them\n"
   ]
  },
  {
   "cell_type": "markdown",
   "metadata": {},
   "source": [
    "\n",
    "# 3. Dimensionality reduction\n",
    "\n",
    "\n",
    "##### What are the applications of the dimensionality reduction?   \n",
    "\n",
    "###### Pick two algorithms that could be useful for exploration or supervised learning problem and apply them on the data. Describe what you've found. Provide a short description of the algorithms you've chosen.\n",
    "\n",
    "Note: feature selection is also one type of dimensionality reduction."
   ]
  },
  {
   "cell_type": "code",
   "execution_count": null,
   "metadata": {},
   "outputs": [],
   "source": [
    "Dimensionality reduction is a process of reducing the number of random variable."
   ]
  },
  {
   "cell_type": "markdown",
   "metadata": {},
   "source": [
    "\n",
    "# 4. Clustering\n",
    "\n",
    "##### What is clustering used for? Name the popular types of clustering. Pick two clustering algorithms and run them on the dataset. Describe what you've found. Does it help with the supervised learning task?"
   ]
  },
  {
   "cell_type": "code",
   "execution_count": null,
   "metadata": {},
   "outputs": [],
   "source": [
    "Clustering we use to group a set of objects in in sucha way that object in the same group are similar."
   ]
  },
  {
   "cell_type": "markdown",
   "metadata": {},
   "source": [
    "\n",
    "# 5. Hyperparameter selection and crossvalidation\n",
    "\n",
    "##### We imagine that you did some modeling in 2nd task with the methods that have some tunable hyperparameters. If they don't, either find a versions of them that have that are tunable, or pick the different ones.\n",
    "\n",
    "##### Tune the hyperparameters of your model using cross-validation. Does it make it better? Does it solve overfitting problems? Is cross-validation score worse than score that your model achieves on test set?"
   ]
  },
  {
   "cell_type": "code",
   "execution_count": null,
   "metadata": {},
   "outputs": [],
   "source": []
  }
 ],
 "metadata": {
  "kernelspec": {
   "display_name": "Python 3",
   "language": "python",
   "name": "python3"
  },
  "language_info": {
   "codemirror_mode": {
    "name": "ipython",
    "version": 3
   },
   "file_extension": ".py",
   "mimetype": "text/x-python",
   "name": "python",
   "nbconvert_exporter": "python",
   "pygments_lexer": "ipython3",
   "version": "3.7.0"
  }
 },
 "nbformat": 4,
 "nbformat_minor": 2
}
